{
 "cells": [
  {
   "cell_type": "code",
   "execution_count": 1,
   "metadata": {},
   "outputs": [],
   "source": [
    "def convert_to_header(filename):\n",
    "    with open(filename, \"rb\") as f:\n",
    "        content = f.read()\n",
    "    \n",
    "    header_filename = filename + \".h\"\n",
    "    with open(header_filename, \"w\") as h:\n",
    "        h.write(f\"const unsigned char model_data[] = {{\\n\")\n",
    "        for i, byte in enumerate(content):\n",
    "            if i % 12 == 0 and i != 0:\n",
    "                h.write(\"\\n\")\n",
    "            h.write(f\"0x{byte:02x}, \")\n",
    "        h.write(f\"\\n}};\\n\")\n",
    "        h.write(f\"const int model_data_len = {len(content)};\\n\")\n",
    "\n",
    "\n"
   ]
  },
  {
   "cell_type": "code",
   "execution_count": 2,
   "metadata": {},
   "outputs": [],
   "source": [
    "if __name__ == \"__main__\":\n",
    "    model_filename = \"fingerprintmodel.tflite\"  # Replace with your actual path\n",
    "    convert_to_header(model_filename)"
   ]
  },
  {
   "cell_type": "code",
   "execution_count": null,
   "metadata": {},
   "outputs": [],
   "source": []
  }
 ],
 "metadata": {
  "kernelspec": {
   "display_name": "Python 3",
   "language": "python",
   "name": "python3"
  },
  "language_info": {
   "codemirror_mode": {
    "name": "ipython",
    "version": 3
   },
   "file_extension": ".py",
   "mimetype": "text/x-python",
   "name": "python",
   "nbconvert_exporter": "python",
   "pygments_lexer": "ipython3",
   "version": "3.10.0"
  }
 },
 "nbformat": 4,
 "nbformat_minor": 2
}
